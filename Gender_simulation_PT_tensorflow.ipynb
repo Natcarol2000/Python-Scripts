{
  "nbformat": 4,
  "nbformat_minor": 0,
  "metadata": {
    "colab": {
      "name": "Untitled0.ipynb",
      "provenance": [],
      "authorship_tag": "ABX9TyMz0SncQnQupVSilP4Vocei",
      "include_colab_link": true
    },
    "kernelspec": {
      "name": "python3",
      "display_name": "Python 3"
    }
  },
  "cells": [
    {
      "cell_type": "markdown",
      "metadata": {
        "id": "view-in-github",
        "colab_type": "text"
      },
      "source": [
        "<a href=\"https://colab.research.google.com/github/Natcarol2000/Python-Scripts/blob/main/Gender_simulation_PT_tensorflow.ipynb\" target=\"_parent\"><img src=\"https://colab.research.google.com/assets/colab-badge.svg\" alt=\"Open In Colab\"/></a>"
      ]
    },
    {
      "cell_type": "code",
      "metadata": {
        "id": "y4KDOF-n5Jw5"
      },
      "source": [
        "import tensorboard\n",
        "from collections import defaultdict\n",
        "import nltk\n",
        "from nltk.tokenize import word_tokenize\n",
        "from nltk.tokenize import sent_tokenize,wordpunct_tokenize\n",
        "import re\n",
        "import os\n",
        "import io\n",
        "import sys\n",
        "from pathlib import Path\n",
        "import numpy as np\n",
        "import numpy\n",
        "import tensorflow as tf\n",
        "import datetime\n",
        "import tensorflow_datasets as tfds\n",
        "from tensorflow.keras.layers import Activation, Dense, Embedding,Dropout,LSTM\n",
        "import pandas as pd\n",
        "from tensorflow.keras.preprocessing.text import Tokenizer\n",
        "from tensorflow.keras.preprocessing.sequence import pad_sequences\n",
        "from sklearn.model_selection import train_test_split\n",
        "from tensorboard.plugins import projector"
      ],
      "execution_count": 2,
      "outputs": []
    }
  ]
}